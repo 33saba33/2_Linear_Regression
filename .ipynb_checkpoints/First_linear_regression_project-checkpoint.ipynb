{
 "cells": [
  {
   "cell_type": "markdown",
   "id": "ce6125c7-9e6b-462e-af1c-50b75f28435f",
   "metadata": {},
   "source": [
    "## IMPORT LIBRARIES"
   ]
  },
  {
   "cell_type": "code",
   "execution_count": 1,
   "id": "6de33c54-26af-4ff8-9065-b401729ae460",
   "metadata": {},
   "outputs": [],
   "source": [
    "# Import the pandas library for data manipulation and analysis\n",
    "import pandas as pd\n",
    "\n",
    "# Import train_test_split to split the dataset into training and testing sets\n",
    "from sklearn.model_selection import train_test_split\n",
    "\n",
    "# Import NumPy for numerical operations and array handling\n",
    "import numpy as np"
   ]
  },
  {
   "cell_type": "markdown",
   "id": "16131c6a-42f5-4705-b0b3-b2d61019fef4",
   "metadata": {},
   "source": [
    "## LOAD THE DATASET"
   ]
  },
  {
   "cell_type": "code",
   "execution_count": 2,
   "id": "16911a57-432e-4f52-a26e-a1062d2ebcb6",
   "metadata": {},
   "outputs": [],
   "source": [
    "# Load the Diabetes dataset from scikit-learn\n",
    "from sklearn.datasets import load_diabetes\n",
    "\n",
    "# Load the Diabetes dataset\n",
    "data = load_diabetes()\n",
    "\n",
    "# Create a DataFrame for the features\n",
    "X = pd.DataFrame(data.data, columns=data.feature_names)\n",
    "\n",
    "# Create a Series for the target variable\n",
    "Y = pd.Series(data.target, name='Target')\n",
    "\n",
    "# Combine the features and target into a single DataFrame\n",
    "df = pd.concat([X, Y], axis=1)\n",
    "\n",
    "# Save the dataset to a CSV file\n",
    "df.to_csv('diabetes_dataset.csv', index=False)"
   ]
  },
  {
   "cell_type": "markdown",
   "id": "0491e5ec-70cf-4256-8037-3103f00d6378",
   "metadata": {},
   "source": [
    "## DISPLAY"
   ]
  },
  {
   "cell_type": "code",
   "execution_count": 3,
   "id": "000aa490-7240-4fce-8bd9-dadd0c25a820",
   "metadata": {},
   "outputs": [
    {
     "data": {
      "text/html": [
       "<div>\n",
       "<style scoped>\n",
       "    .dataframe tbody tr th:only-of-type {\n",
       "        vertical-align: middle;\n",
       "    }\n",
       "\n",
       "    .dataframe tbody tr th {\n",
       "        vertical-align: top;\n",
       "    }\n",
       "\n",
       "    .dataframe thead th {\n",
       "        text-align: right;\n",
       "    }\n",
       "</style>\n",
       "<table border=\"1\" class=\"dataframe\">\n",
       "  <thead>\n",
       "    <tr style=\"text-align: right;\">\n",
       "      <th></th>\n",
       "      <th>age</th>\n",
       "      <th>sex</th>\n",
       "      <th>bmi</th>\n",
       "      <th>bp</th>\n",
       "      <th>s1</th>\n",
       "      <th>s2</th>\n",
       "      <th>s3</th>\n",
       "      <th>s4</th>\n",
       "      <th>s5</th>\n",
       "      <th>s6</th>\n",
       "      <th>Target</th>\n",
       "    </tr>\n",
       "  </thead>\n",
       "  <tbody>\n",
       "    <tr>\n",
       "      <th>0</th>\n",
       "      <td>0.038076</td>\n",
       "      <td>0.050680</td>\n",
       "      <td>0.061696</td>\n",
       "      <td>0.021872</td>\n",
       "      <td>-0.044223</td>\n",
       "      <td>-0.034821</td>\n",
       "      <td>-0.043401</td>\n",
       "      <td>-0.002592</td>\n",
       "      <td>0.019907</td>\n",
       "      <td>-0.017646</td>\n",
       "      <td>151.0</td>\n",
       "    </tr>\n",
       "    <tr>\n",
       "      <th>1</th>\n",
       "      <td>-0.001882</td>\n",
       "      <td>-0.044642</td>\n",
       "      <td>-0.051474</td>\n",
       "      <td>-0.026328</td>\n",
       "      <td>-0.008449</td>\n",
       "      <td>-0.019163</td>\n",
       "      <td>0.074412</td>\n",
       "      <td>-0.039493</td>\n",
       "      <td>-0.068332</td>\n",
       "      <td>-0.092204</td>\n",
       "      <td>75.0</td>\n",
       "    </tr>\n",
       "    <tr>\n",
       "      <th>2</th>\n",
       "      <td>0.085299</td>\n",
       "      <td>0.050680</td>\n",
       "      <td>0.044451</td>\n",
       "      <td>-0.005670</td>\n",
       "      <td>-0.045599</td>\n",
       "      <td>-0.034194</td>\n",
       "      <td>-0.032356</td>\n",
       "      <td>-0.002592</td>\n",
       "      <td>0.002861</td>\n",
       "      <td>-0.025930</td>\n",
       "      <td>141.0</td>\n",
       "    </tr>\n",
       "    <tr>\n",
       "      <th>3</th>\n",
       "      <td>-0.089063</td>\n",
       "      <td>-0.044642</td>\n",
       "      <td>-0.011595</td>\n",
       "      <td>-0.036656</td>\n",
       "      <td>0.012191</td>\n",
       "      <td>0.024991</td>\n",
       "      <td>-0.036038</td>\n",
       "      <td>0.034309</td>\n",
       "      <td>0.022688</td>\n",
       "      <td>-0.009362</td>\n",
       "      <td>206.0</td>\n",
       "    </tr>\n",
       "    <tr>\n",
       "      <th>4</th>\n",
       "      <td>0.005383</td>\n",
       "      <td>-0.044642</td>\n",
       "      <td>-0.036385</td>\n",
       "      <td>0.021872</td>\n",
       "      <td>0.003935</td>\n",
       "      <td>0.015596</td>\n",
       "      <td>0.008142</td>\n",
       "      <td>-0.002592</td>\n",
       "      <td>-0.031988</td>\n",
       "      <td>-0.046641</td>\n",
       "      <td>135.0</td>\n",
       "    </tr>\n",
       "  </tbody>\n",
       "</table>\n",
       "</div>"
      ],
      "text/plain": [
       "        age       sex       bmi        bp        s1        s2        s3  \\\n",
       "0  0.038076  0.050680  0.061696  0.021872 -0.044223 -0.034821 -0.043401   \n",
       "1 -0.001882 -0.044642 -0.051474 -0.026328 -0.008449 -0.019163  0.074412   \n",
       "2  0.085299  0.050680  0.044451 -0.005670 -0.045599 -0.034194 -0.032356   \n",
       "3 -0.089063 -0.044642 -0.011595 -0.036656  0.012191  0.024991 -0.036038   \n",
       "4  0.005383 -0.044642 -0.036385  0.021872  0.003935  0.015596  0.008142   \n",
       "\n",
       "         s4        s5        s6  Target  \n",
       "0 -0.002592  0.019907 -0.017646   151.0  \n",
       "1 -0.039493 -0.068332 -0.092204    75.0  \n",
       "2 -0.002592  0.002861 -0.025930   141.0  \n",
       "3  0.034309  0.022688 -0.009362   206.0  \n",
       "4 -0.002592 -0.031988 -0.046641   135.0  "
      ]
     },
     "execution_count": 3,
     "metadata": {},
     "output_type": "execute_result"
    }
   ],
   "source": [
    "# Display the first few rows of the dataset\n",
    "df.head()"
   ]
  },
  {
   "cell_type": "markdown",
   "id": "b39b5736-9b2c-46e1-a3fd-f0937e09e056",
   "metadata": {},
   "source": [
    "## PREDICTION"
   ]
  },
  {
   "cell_type": "code",
   "execution_count": 4,
   "id": "0fbd4af5-785c-4467-8896-fefcd1f81903",
   "metadata": {},
   "outputs": [],
   "source": [
    "# Predict the target value for a single example (one patient) using model parameters\n",
    "def predict(example, theta):\n",
    "    # Check if the number of features matches the size of theta (excluding bias)\n",
    "    if example.shape[0] != theta.shape[0] - 1:\n",
    "        raise ValueError(\"The number of features and parameters must match.\")  \n",
    "    # Initialize the prediction value to zero\n",
    "    prediction = 0    \n",
    "    # Compute the weighted sum of features\n",
    "    for i in range(example.shape[0]):\n",
    "        # Remark: theta[i + 1] because theta[0] is the bias term\n",
    "        prediction += example[i] * theta[i + 1]    \n",
    "    # Add the bias term to the prediction\n",
    "    prediction += theta[0]   \n",
    "    # Return the final predicted value\n",
    "    return prediction   "
   ]
  },
  {
   "cell_type": "markdown",
   "id": "e9d12261-79c5-449b-a871-d292b91ec9fa",
   "metadata": {},
   "source": [
    "## COST "
   ]
  },
  {
   "cell_type": "code",
   "execution_count": 5,
   "id": "020eb6f9-e3f8-4064-a41b-684f48b26fe1",
   "metadata": {},
   "outputs": [],
   "source": [
    "# Compute the cost for the given dataset\n",
    "def compute_cost(features, labels, theta):\n",
    "    # Initialize the sum squared errors\n",
    "    loss_sum = 0\n",
    "    # Loop over each example\n",
    "    for i in range(features.shape[0]):\n",
    "        # Predict the target value for the i-th example and compute squared error\n",
    "        loss_sum += (labels[i] - predict(features[i], theta))**2\n",
    "    # Compute the final cost\n",
    "    cost = loss_sum / (2 * features.shape[0])\n",
    "    # Return the computed cost\n",
    "    return cost "
   ]
  },
  {
   "cell_type": "markdown",
   "id": "ade720eb-9e4c-4b71-ace8-781e0ee0811c",
   "metadata": {},
   "source": [
    "## PRINT"
   ]
  },
  {
   "cell_type": "code",
   "execution_count": 6,
   "id": "6e2083f7-4792-4b2a-93cd-a2153ca8ef14",
   "metadata": {},
   "outputs": [],
   "source": [
    "def print_progress(cost, theta):\n",
    "    feature_names = ['age', 'sex', 'bmi', 'bp', 's1', 's2', 's3', 's4', 's5', 's6']\n",
    "    weights_str = \", \".join([f\"{name}={theta[i+1]:.1f}\" for i, name in enumerate(feature_names)])\n",
    "    line = f\"Cost={cost:.1f} | bias={theta[0]:.1f}, {weights_str}\"\n",
    "    print(line, end=\"\\r\")"
   ]
  },
  {
   "cell_type": "markdown",
   "id": "44497bdd-1603-4892-ac3a-62b5efd73065",
   "metadata": {},
   "source": [
    "## GRADIENT"
   ]
  },
  {
   "cell_type": "code",
   "execution_count": 11,
   "id": "adacdc8a-9417-45db-bfa0-65fcb98e1856",
   "metadata": {},
   "outputs": [],
   "source": [
    "# Compute de gradient of the cost function with respect to the bias (theta 0)\n",
    "def compute_bias_gradient(features, labels, theta):\n",
    "    # Initialize the sum of errors\n",
    "    error_sum = 0\n",
    "    # Iterate over each training example\n",
    "    for i in range(features.shape[0]):\n",
    "        # Compute the prediction error for the i-th example\n",
    "        error_sum += predict(features[i], theta) - labels[i]\n",
    "    # Calculate the bias gradient\n",
    "    bias_gradient = error_sum / features.shape[0]\n",
    "    # Return the computed bias gradient\n",
    "    return bias_gradient \n",
    "\n",
    "# # Compute the gradient of the cost function with respect to theta\n",
    "def compute_theta_gradient(features, labels, theta):\n",
    "    # Initialize gradients list with zeros, one for each feature\n",
    "    gradients = [0] * features.shape[1]\n",
    "    # Loop over each feature (j is the index of the feature)\n",
    "    for j in range(features.shape[1]):\n",
    "        # Initialize the sum of errors for gradient j\n",
    "        error_sum = 0\n",
    "        # Loop over each training example (i is the index of the sample)\n",
    "        for i in range(features.shape[0]):\n",
    "            # Compute prediction error for example i\n",
    "            error = predict(features[i], theta) - labels[i]\n",
    "            # Accumulate the error weighted by feature j\n",
    "            error_sum += error * features[i][j]\n",
    "        # Average the error sum to get the gradient for feature j\n",
    "        gradients[j] = error_sum / features.shape[0]\n",
    "    # Return the list of gradients for all features\n",
    "    return gradients\n",
    "\n",
    "# Perform gradient descent and track cost at each iteration\n",
    "def gradient_descent(features, labels, theta, learning_rate):\n",
    "    # List to store cost values over time\n",
    "    cost_history = []\n",
    "    # List to store iteration numbers\n",
    "    iteration_history = []\n",
    "    # Initialize cost and iteration counter\n",
    "    cost = compute_cost(features, labels, theta)\n",
    "    iteration = 0\n",
    "    # Repeat until cost is small enough\n",
    "    while cost > 1400:\n",
    "        # Compute gradients\n",
    "        bias_grad = compute_bias_gradient(features, labels, theta)\n",
    "        theta_grads = compute_theta_gradient(features, labels, theta)\n",
    "        # Update parameters\n",
    "        theta[0] -= learning_rate * bias_grad\n",
    "        for j in range(1, len(theta)):\n",
    "            theta[j] = theta[j] - learning_rate * theta_grads[j - 1]\n",
    "        # Recompute cost\n",
    "        cost = compute_cost(features, labels, theta)\n",
    "        # Print current cost and theta\n",
    "        print_progress(cost, theta)\n",
    "        # Save cost and iteration\n",
    "        cost_history.append(cost)\n",
    "        iteration_history.append(iteration)\n",
    "        # Increment iteration counter\n",
    "        iteration += 1\n",
    "    # Return updated parameters and history\n",
    "    return theta, cost_history, iteration_history"
   ]
  },
  {
   "cell_type": "markdown",
   "id": "e9495108-8e78-4412-b952-00c3fa06e071",
   "metadata": {},
   "source": [
    "## TRAIN"
   ]
  },
  {
   "cell_type": "code",
   "execution_count": null,
   "id": "aaf7b967-4972-4dce-ae08-a2064edf92f8",
   "metadata": {},
   "outputs": [],
   "source": [
    "# Define initial weights (bias + weights) from your current best result\n",
    "theta_init = np.array([\n",
    "    151.3,   # bias\n",
    "     38.7,   # age\n",
    "   -241.7,   # sex\n",
    "    545.2,   # bmi\n",
    "    346.8,   # bp\n",
    "   -787.5,   # s1\n",
    "    405.1,   # s2\n",
    "     98.8,   # s3\n",
    "    255.5,   # s4\n",
    "    681.0,   # s5\n",
    "     49.7    # s6\n",
    "])\n",
    "\n",
    "# Set smaller learning rate\n",
    "learning_rate = 0.01\n",
    "\n",
    "# Data\n",
    "X_train, X_test, Y_train, Y_test = train_test_split(X.values, Y.values, test_size=0.2, random_state=42)\n",
    "\n",
    "# Run gradient descent with the new initial weights\n",
    "theta_final, cost_history, iteration_history = gradient_descent(X_train, Y_train, theta_init, learning_rate=learning_rate)"
   ]
  }
 ],
 "metadata": {
  "kernelspec": {
   "display_name": "Python 3 (ipykernel)",
   "language": "python",
   "name": "python3"
  },
  "language_info": {
   "codemirror_mode": {
    "name": "ipython",
    "version": 3
   },
   "file_extension": ".py",
   "mimetype": "text/x-python",
   "name": "python",
   "nbconvert_exporter": "python",
   "pygments_lexer": "ipython3",
   "version": "3.13.1"
  }
 },
 "nbformat": 4,
 "nbformat_minor": 5
}
