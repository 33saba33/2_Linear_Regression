{
 "cells": [
  {
   "cell_type": "markdown",
   "id": "c4878161-2956-4dd5-839c-5d50fa627701",
   "metadata": {},
   "source": [
    "# IMPORT"
   ]
  },
  {
   "cell_type": "code",
   "execution_count": 1,
   "id": "1aa3db73-784c-46ed-8601-c9337e209fe2",
   "metadata": {},
   "outputs": [],
   "source": [
    "# Provides functions to create deep or shallow copies of objects\n",
    "import copy\n",
    "# Provides access to basic mathematical functions  \n",
    "import math\n",
    "# Impoer NumPy for numerical operations and working with arrays\n",
    "import numpy as np\n",
    "# Imports matplotlib fot creating plots and visualizations\n",
    "import matplotlib.pyplot as plt"
   ]
  },
  {
   "cell_type": "markdown",
   "id": "a9ee1b01-fd2f-43d1-bb4b-60cf2fdf6655",
   "metadata": {},
   "source": [
    "# DATASET"
   ]
  },
  {
   "cell_type": "markdown",
   "id": "5763e038-c98b-4e53-9d7f-e8ace9d293d9",
   "metadata": {},
   "source": [
    "| Size (sqft) | Number of Bedrooms  | Number of floors | Age of  Home | Price (1000s dollars)  |   \n",
    "| ----------------| ------------------- |----------------- |--------------|-------------- |  \n",
    "| 2104            | 5                   | 1                | 45           | 460           |  \n",
    "| 1416            | 3                   | 2                | 40           | 232           |  \n",
    "| 852             | 2                   | 1                | 35           | 178           |  \n"
   ]
  },
  {
   "cell_type": "code",
   "execution_count": 2,
   "id": "9909770e-8782-4d38-9007-b4c916343c1d",
   "metadata": {},
   "outputs": [],
   "source": [
    "X_train = np.array([[2104, 5, 1, 45], [1416, 3, 2, 40], [852, 2, 1, 35]])\n",
    "y_train = np.array([460, 232, 178])"
   ]
  },
  {
   "cell_type": "markdown",
   "id": "63041b31-dbc5-4b0f-bad1-74d5f71b8d59",
   "metadata": {},
   "source": [
    "# PREDICTION\n",
    "The prediction is given by $f_{\\vec{w}, b}(\\vec{x}) = \\vec{w}^T \\vec{x} + b$, which is equivalent to $f_{\\vec{w}, b}(\\vec{x}) = w_1 x_1 + w_2 x_2 + \\dots + w_n x_n + b$."
   ]
  },
  {
   "cell_type": "code",
   "execution_count": 3,
   "id": "3726c4cf-b225-41cf-9837-501a30401762",
   "metadata": {},
   "outputs": [],
   "source": [
    "def predict(w, b, x):\n",
    "    \"\"\"\n",
    "    Make a single prediction using linear regression.\n",
    "    Args: \n",
    "        w (ndarray(n, )): model parameters (weights)\n",
    "        b (scalar): bias term\n",
    "        x (ndarray): shape (n, ) - input features for a single prediction \n",
    "    Returns:\n",
    "        prediction (scalar): model output \n",
    "    \"\"\"\n",
    "    prediction = np.dot(w, x) + b\n",
    "    return prediction"
   ]
  },
  {
   "cell_type": "markdown",
   "id": "ee3f572a-b02d-448f-8431-f9d831fd04ad",
   "metadata": {},
   "source": [
    "# COST\n",
    "The cost function used in linear regression is: $ J(\\vec{w}, b) = \\frac{1}{2m} \\sum_{i=1}^{m} \\left( f_{\\vec{w}, b}(\\vec{x}^{(i)}) - y^{(i)} \\right)^2 $"
   ]
  },
  {
   "cell_type": "code",
   "execution_count": 4,
   "id": "d19d626d-ebd1-4d4b-823a-0735baf17345",
   "metadata": {},
   "outputs": [],
   "source": [
    "def compute_cost(w, b, X, y):\n",
    "    \"\"\"\n",
    "    Compute cost.\n",
    "    Args: \n",
    "        w (ndarray(n, )): model parameters (weights)\n",
    "        b (scalar): bias term\n",
    "        X (ndarray(m, n)): training input examples\n",
    "        y (ndarray(m, )): target values \n",
    "    Returns:\n",
    "        final_cost (scalar): the cost\n",
    "    \"\"\"\n",
    "    # Get number of training examples (m) and number of features (n)\n",
    "    m, n = X.shape\n",
    "    # Initialize total cost accumulator \n",
    "    cost_accumulator = 0.0\n",
    "    for i in range(m):\n",
    "        # Compute prediction for i\n",
    "        current_prediction = predict(w, b, X[i])\n",
    "        # Accumulate squared error \n",
    "        cost_accumulator += (current_prediction - y[i]) ** 2\n",
    "    # Compute average cost\n",
    "    final_cost = cost_accumulator / (2 * m)\n",
    "    # Return the computed cost\n",
    "    return final_cost"
   ]
  },
  {
   "cell_type": "markdown",
   "id": "ea60cc90-0ef2-4a98-95f7-5df2822a3687",
   "metadata": {},
   "source": [
    "# GRADIENT\n",
    "The gradients are $\\frac{\\partial J}{\\partial w_j} = \\frac{1}{m} \\sum_{i=1}^{m} (f_{\\vec{w}, b}(\\vec{x}^{(i)}) - y^{(i)}) \\cdot x_j^{(i)}$ and $\\frac{\\partial J}{\\partial b} = \\frac{1}{m} \\sum_{i=1}^{m} (f_{\\vec{w}, b}(\\vec{x}^{(i)}) - y^{(i)})$."
   ]
  },
  {
   "cell_type": "code",
   "execution_count": 5,
   "id": "27e2b7d8-e39e-4a50-be79-12fa4fd8dbcd",
   "metadata": {},
   "outputs": [],
   "source": [
    "def compute_gradients(w, b, X, y):\n",
    "    \"\"\"\n",
    "    Compute the gradient of each parameter of the models.\n",
    "    Args:\n",
    "        w (ndarray(n, )): weights \n",
    "        b (float): bias \n",
    "        X (ndarray(m, n)): input features\n",
    "        y (ndarray(m)): target values \n",
    "    Returns:\n",
    "        grad_w (ndarray(n, )): gradients with respect to weights \n",
    "        grad_b (float): gradient with respect to bias\n",
    "    \"\"\"\n",
    "    # \n",
    "    grad_w = []\n",
    "    # Retrive the number of examples\n",
    "    m = X.shape[0]\n",
    "    # Retrieve the number of features\n",
    "    n = X.shape[1]\n",
    "    # Compute gradient for each weight\n",
    "    for j in range(n):\n",
    "        sum_errors = 0.0\n",
    "        for i in range(m):\n",
    "            prediction = predict(w, b, X[i])\n",
    "            target = y[i]\n",
    "            x_ij = X[i][j]\n",
    "            sum_errors += (prediction - target) * x_ij\n",
    "        grad_w.append(sum_errors / m)\n",
    "    # Compute gradient for bias\n",
    "    sum_errors = 0.0\n",
    "    for i in range(m):\n",
    "        prediction = predict(w, b, X[i])\n",
    "        target = y[i]\n",
    "        sum_errors += prediction - target\n",
    "    grad_b = sum_errors / m\n",
    "    return np.array(grad_w), grad_b"
   ]
  },
  {
   "cell_type": "markdown",
   "id": "1764b0f2-6788-4890-b5fe-0d3b978ee6e7",
   "metadata": {},
   "source": [
    "# GRADIENT DESCENT\n",
    "\n",
    "To minimize the cost function in linear regression, we apply gradient descent, an iterative optimization algorithm.\n",
    "- For each weight: $ w_j := w_j - \\alpha \\cdot \\frac{\\partial J(\\vec{w}, b)}{\\partial w_j} $\n",
    "- For the bias: $ b := b - \\alpha \\cdot \\frac{\\partial J(\\vec{w}, b)}{\\partial b} $"
   ]
  },
  {
   "cell_type": "code",
   "execution_count": 6,
   "id": "b2d4205b-8289-40f4-81c3-0fb9474c1212",
   "metadata": {},
   "outputs": [],
   "source": [
    "def gradient_descent(w, b, X, y, alpha):\n",
    "    \"\"\"\n",
    "    Perform one step of gradient descent on the parameters w and b.\n",
    "    Args:\n",
    "        w (ndarray(n, )): current weights\n",
    "        b (float): current bias \n",
    "        X (ndarray(m, n)): training input features\n",
    "        y (ndarray(n, )): target values \n",
    "        alpha (float): learning rate \n",
    "    Returns: \n",
    "        w (ndarray(n, )): updated weights after one gradient descent step\n",
    "        b (float): updated bias after one gradient descent step\n",
    "    \"\"\"\n",
    "    # Compute gradients of the cost function with respect to w and b\n",
    "    grad_w, grad_b = compute_gradients(w, b, X, y)\n",
    "    # Update weights using gradient descent rule \n",
    "    for j in range(len(w)):\n",
    "        w[j] = w[j] - alpha * grad_w[j]\n",
    "    # Update bias \n",
    "    b = b - alpha * grad_b\n",
    "    return w, b "
   ]
  },
  {
   "cell_type": "markdown",
   "id": "01b623f0-b901-4bc5-a4f9-87236fe9fa52",
   "metadata": {},
   "source": [
    "# TRAIN"
   ]
  },
  {
   "cell_type": "code",
   "execution_count": 7,
   "id": "ce22f8f5-2489-4b22-999a-26405054761a",
   "metadata": {},
   "outputs": [],
   "source": [
    "def train(w, b, X, y, alpha, epochs):\n",
    "    \"\"\"\n",
    "    Perform one step of gradient descent on the parameters w and b.\n",
    "    Args:\n",
    "        w (ndarray(n, )): current weights\n",
    "        b (float): current bias \n",
    "        X (ndarray(m, n)): training input features\n",
    "        y (ndarray(n, )): target values \n",
    "        alpha (float): learning rate \n",
    "        epochs (int): number of full passes over the training dataset\n",
    "    Returns: \n",
    "        w (ndarray(n, )): updated weights after one gradient descent step\n",
    "        b (float): updated bias after one gradient descent step\n",
    "    \"\"\"\n",
    "    cost_history = []\n",
    "    iteration_history = []\n",
    "    for i in range(epochs):\n",
    "        # Compute and store current cost\n",
    "        cost = compute_cost(w, b, X, y)\n",
    "        cost_history.append(cost)\n",
    "        iteration_history.append(i + 1)\n",
    "        # Perform one step of gradient descent and update parameters\n",
    "        w, b = gradient_descent(w, b, X, y, alpha)\n",
    "    return w, b, cost_history, iteration_history"
   ]
  },
  {
   "cell_type": "markdown",
   "id": "6b6f7381-19f8-40d1-b555-1d2b2b470776",
   "metadata": {},
   "source": [
    "# PLOT"
   ]
  },
  {
   "cell_type": "code",
   "execution_count": 8,
   "id": "71d32c1b-7029-4bdb-a12f-8d7edc6092ca",
   "metadata": {},
   "outputs": [],
   "source": [
    "def plot_cost(cost_history, iteration_history):\n",
    "    \"\"\"\n",
    "    Plot full and zoomed cost over training iterations.\n",
    "    \"\"\"\n",
    "    fig, axs = plt.subplots(1, 2, figsize=(12, 4))\n",
    "\n",
    "    # Full view\n",
    "    axs[0].plot(iteration_history, cost_history, linewidth=2)\n",
    "    axs[0].set_title(\"Cost vs. iteration\")\n",
    "    axs[0].set_xlabel(\"iteration step\")\n",
    "    axs[0].set_ylabel(\"Cost\")\n",
    "\n",
    "    # Zoomed (tail)\n",
    "    axs[1].plot(iteration_history[-500:], cost_history[-500:], linewidth=2)\n",
    "    axs[1].set_title(\"Cost vs. iteration (tail)\")\n",
    "    axs[1].set_xlabel(\"iteration step\")\n",
    "    axs[1].set_ylabel(\"Cost\")\n",
    "\n",
    "    plt.tight_layout()\n",
    "    plt.show()"
   ]
  },
  {
   "cell_type": "markdown",
   "id": "d0989422-7570-4bbe-808f-1f226e44dbb6",
   "metadata": {},
   "source": [
    "# TEST"
   ]
  },
  {
   "cell_type": "code",
   "execution_count": 10,
   "id": "2640cb17-7cb2-490d-bc0b-2e9570239f3d",
   "metadata": {},
   "outputs": [
    {
     "name": "stdout",
     "output_type": "stream",
     "text": [
      "b,w found by gradient descent: -0.00,[ 0.20396569  0.00374919 -0.0112487  -0.0658614 ] \n",
      "prediction: 426.19, target value: 460\n",
      "prediction: 286.17, target value: 232\n",
      "prediction: 171.47, target value: 178\n"
     ]
    },
    {
     "data": {
      "image/png": "[encoded data removed]",
      "text/plain": [
       "<Figure size 1200x400 with 2 Axes>"
      ]
     },
     "metadata": {},
     "output_type": "display_data"
    }
   ],
   "source": [
    "# Initialize parameters\n",
    "initial_w = np.zeros(X_train.shape[1])\n",
    "initial_b = 0.0\n",
    "\n",
    "# Some gradient descent settings\n",
    "epochs = 1000\n",
    "alpha = 5.0e-7\n",
    "\n",
    "# Run gradient descent \n",
    "updated_w, updated_b, cost_history, iteration_history = train(initial_w, initial_b, X_train, y_train, alpha, epochs)\n",
    "print(f\"b,w found by gradient descent: {updated_b:0.2f},{updated_w} \")\n",
    "\n",
    "# Print predictions\n",
    "m,_ = X_train.shape\n",
    "for i in range(m):\n",
    "    print(f\"prediction: {np.dot(X_train[i], updated_w) + updated_b:0.2f}, target value: {y_train[i]}\")\n",
    "\n",
    "# Plot\n",
    "plot_cost(cost_history, iteration_history)"
   ]
  }
 ],
 "metadata": {
  "kernelspec": {
   "display_name": "Python 3 (ipykernel)",
   "language": "python",
   "name": "python3"
  },
  "language_info": {
   "codemirror_mode": {
    "name": "ipython",
    "version": 3
   },
   "file_extension": ".py",
   "mimetype": "text/x-python",
   "name": "python",
   "nbconvert_exporter": "python",
   "pygments_lexer": "ipython3",
   "version": "3.13.1"
  }
 },
 "nbformat": 4,
 "nbformat_minor": 5
}
