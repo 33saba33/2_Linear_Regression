{
 "cells": [
  {
   "cell_type": "code",
   "execution_count": 5,
   "id": "acb62464-80f4-4d30-a937-fc659b34e5c5",
   "metadata": {},
   "outputs": [],
   "source": [
    "# Imports standard libraries for mathematical functions and object copying \n",
    "import math, copy\n",
    "# Imports NumPy for numerical opearations and array handling \n",
    "import numpy as np\n",
    "# Imports matplotlib for data visualization\n",
    "import matplotlib.pyplot as plt"
   ]
  },
  {
   "cell_type": "code",
   "execution_count": null,
   "id": "51035dc8-6595-44d1-8a5b-336d583c2b26",
   "metadata": {},
   "outputs": [],
   "source": []
  }
 ],
 "metadata": {
  "kernelspec": {
   "display_name": "Python 3 (ipykernel)",
   "language": "python",
   "name": "python3"
  },
  "language_info": {
   "codemirror_mode": {
    "name": "ipython",
    "version": 3
   },
   "file_extension": ".py",
   "mimetype": "text/x-python",
   "name": "python",
   "nbconvert_exporter": "python",
   "pygments_lexer": "ipython3",
   "version": "3.13.1"
  }
 },
 "nbformat": 4,
 "nbformat_minor": 5
}
