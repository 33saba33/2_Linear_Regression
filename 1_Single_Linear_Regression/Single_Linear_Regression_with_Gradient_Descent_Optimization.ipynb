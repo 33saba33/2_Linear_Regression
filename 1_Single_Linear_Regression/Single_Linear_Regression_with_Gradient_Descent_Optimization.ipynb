{
 "cells": [
  {
   "cell_type": "markdown",
   "id": "5f6383f7-4a50-4f9a-8545-a701c9947383",
   "metadata": {},
   "source": [
    "# IMPORTS"
   ]
  },
  {
   "cell_type": "code",
   "execution_count": 49,
   "id": "acb62464-80f4-4d30-a937-fc659b34e5c5",
   "metadata": {},
   "outputs": [],
   "source": [
    "# Imports standard libraries for mathematical functions and object copying \n",
    "import math, copy\n",
    "# Imports NumPy for numerical opearations and array handling \n",
    "import numpy as np\n",
    "# Imports matplotlib for data visualization\n",
    "import matplotlib.pyplot as plt"
   ]
  },
  {
   "cell_type": "markdown",
   "id": "d19a34ef-54fb-494e-83e0-8681b714ce3d",
   "metadata": {},
   "source": [
    "# DATA"
   ]
  },
  {
   "cell_type": "code",
   "execution_count": 50,
   "id": "c4b59142-353f-4a7c-b547-09c5ad713702",
   "metadata": {},
   "outputs": [],
   "source": [
    "# Features\n",
    "x_train = np.array([1.0, 2.0])\n",
    "# Targets\n",
    "y_train = np.array([300.0, 500.0])"
   ]
  },
  {
   "cell_type": "markdown",
   "id": "a3012b97-387e-441a-82f3-d57199e2e25f",
   "metadata": {},
   "source": [
    "# PREDICT"
   ]
  },
  {
   "cell_type": "code",
   "execution_count": 51,
   "id": "da0d76c2-a26e-4f88-ab66-a33a5cfa20a6",
   "metadata": {},
   "outputs": [],
   "source": [
    "def compute_model_output(w, b, x):\n",
    "    \"\"\"\n",
    "    Compute the prediction of a linear model\n",
    "    Args:\n",
    "        x (ndarray(m, )): data with m examples\n",
    "        w, b (scalar): model parameters\n",
    "    Returns:\n",
    "    output (float): model prediction for this (x) input\n",
    "    \"\"\"\n",
    "    output = w * x + b\n",
    "    return output"
   ]
  },
  {
   "cell_type": "markdown",
   "id": "9f537a54-d19c-4baa-bb4d-631603b050ab",
   "metadata": {},
   "source": [
    "# COST"
   ]
  },
  {
   "cell_type": "code",
   "execution_count": 52,
   "id": "f7f7a05f-c8a8-4f21-86a4-68811a4e77c0",
   "metadata": {},
   "outputs": [],
   "source": [
    "def compute_cost(w, b, x_train, y_train):\n",
    "    m = len(x_train)\n",
    "    current_cost = 0.0\n",
    "    for i in range(m):\n",
    "        current_cost += (compute_model_output(w, b, x_train[i]) - y_train[i]) ** 2\n",
    "    cost = current_cost / (2 * m)\n",
    "    return cost"
   ]
  },
  {
   "cell_type": "markdown",
   "id": "8c6e3d95-aae1-4efa-81bc-ef05347da44a",
   "metadata": {},
   "source": [
    "# GRADIENT"
   ]
  },
  {
   "cell_type": "code",
   "execution_count": 53,
   "id": "f7f3c81b-322a-4462-b404-45ce1fe54183",
   "metadata": {},
   "outputs": [],
   "source": [
    "def compute_gradient(w, b, x, y):\n",
    "    \"\"\"\n",
    "    Computes the gradient for linear regression\n",
    "    Args:\n",
    "        w (scalar): model parameter (slope)\n",
    "        b (scalar): model parameter (bias)\n",
    "        x (ndarray(m, )): training data \n",
    "        y (ndarray(m, )): targets\n",
    "    Returns:\n",
    "        dj_dw (scalar): The gradient of the cost with respect to the parameter w \n",
    "        dj_db (scalar): The gradient of the cost with respect to the parameter b\n",
    "    \"\"\"\n",
    "    # Number of training examples\n",
    "    m = len(x)\n",
    "    # Compute dj_dw\n",
    "    current_sum = 0.0\n",
    "    for i in range(m):\n",
    "        current_error = compute_model_output(w, b, x[i]) - y[i]\n",
    "        current_sum += current_error * x[i]\n",
    "    dj_dw = current_sum / m\n",
    "    # Compute dj_db\n",
    "    current_sum = 0.0\n",
    "    for i in range(m):\n",
    "        current_sum += compute_model_output(w, b, x[i]) - y[i]\n",
    "    dj_db = current_sum / m\n",
    "    return dj_dw, dj_db"
   ]
  },
  {
   "cell_type": "markdown",
   "id": "a8d891f3-258f-4bb4-b195-9034d748d0ce",
   "metadata": {},
   "source": [
    "# GRADIENT DESCENT"
   ]
  },
  {
   "cell_type": "code",
   "execution_count": 54,
   "id": "4ad4d74b-ce63-4258-8541-e28ae2887b39",
   "metadata": {},
   "outputs": [],
   "source": [
    "def gradient_descent(w, b, x, y, alpha, num_iters):\n",
    "    training_log = []\n",
    "    for i in range(num_iters):\n",
    "        current_cost = compute_cost(w, b, x, y)\n",
    "        dj_dw, dj_db = compute_gradient(w, b, x, y)\n",
    "        temp_w = w - alpha * dj_dw\n",
    "        temp_b = b - alpha * dj_db\n",
    "        w = temp_w\n",
    "        b = temp_b\n",
    "        training_log.append((i + 1, current_cost, dj_dw, dj_db, w, b))\n",
    "    return w, b, training_log"
   ]
  },
  {
   "cell_type": "markdown",
   "id": "8bd22419-4bf5-4e72-a084-77f069f3ee77",
   "metadata": {},
   "source": [
    "# TRAIN"
   ]
  },
  {
   "cell_type": "code",
   "execution_count": 55,
   "id": "380acdb4-6153-4674-a9e7-e9fd61e5b788",
   "metadata": {},
   "outputs": [
    {
     "name": "stdout",
     "output_type": "stream",
     "text": [
      "final w = 199.99285075131766 and final b = 100.011567727362\n"
     ]
    }
   ],
   "source": [
    "# Initialize parameters\n",
    "w = 0.0\n",
    "b = 0.0\n",
    "# Gradient descent settings \n",
    "num_iters = 10000\n",
    "alpha = 0.01\n",
    "# Run gradient descent\n",
    "final_w, final_b, training_log = gradient_descent(w, b, x_train, y_train, alpha, num_iters)\n",
    "print(f\"final w = {final_w} and final b = {final_b}\")"
   ]
  },
  {
   "cell_type": "code",
   "execution_count": null,
   "id": "40f61d28-c9d2-4b67-97ce-df669f3a27c4",
   "metadata": {},
   "outputs": [],
   "source": []
  }
 ],
 "metadata": {
  "kernelspec": {
   "display_name": "Python 3 (ipykernel)",
   "language": "python",
   "name": "python3"
  },
  "language_info": {
   "codemirror_mode": {
    "name": "ipython",
    "version": 3
   },
   "file_extension": ".py",
   "mimetype": "text/x-python",
   "name": "python",
   "nbconvert_exporter": "python",
   "pygments_lexer": "ipython3",
   "version": "3.13.1"
  }
 },
 "nbformat": 4,
 "nbformat_minor": 5
}
